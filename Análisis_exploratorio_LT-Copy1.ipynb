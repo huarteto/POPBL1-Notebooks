{
 "cells": [
  {
   "cell_type": "markdown",
   "metadata": {},
   "source": [
    "## Exploratory data analysis / Legitimate traffic"
   ]
  },
  {
   "cell_type": "code",
   "execution_count": 101,
   "metadata": {},
   "outputs": [],
   "source": [
    "import pandas as pd\n",
    "\n"
   ]
  },
  {
   "cell_type": "code",
   "execution_count": 102,
   "metadata": {},
   "outputs": [
    {
     "data": {
      "text/plain": [
       "(72177, 14)"
      ]
     },
     "execution_count": 102,
     "metadata": {},
     "output_type": "execute_result"
    }
   ],
   "source": [
    "data = pd.read_csv('clustering_1.csv')\n",
    "data.shape"
   ]
  },
  {
   "cell_type": "code",
   "execution_count": 103,
   "metadata": {},
   "outputs": [
    {
     "data": {
      "text/plain": [
       "@timestamp             object\n",
       "destination.ip         object\n",
       "destination.port       object\n",
       "destination.bytes      object\n",
       "destination.packets    object\n",
       "event.duration         object\n",
       "network.bytes          object\n",
       "network.packets        object\n",
       "source.bytes           object\n",
       "source.packets         object\n",
       "source.port            object\n",
       "source.ip              object\n",
       "network.transport      object\n",
       "network.type           object\n",
       "dtype: object"
      ]
     },
     "execution_count": 103,
     "metadata": {},
     "output_type": "execute_result"
    }
   ],
   "source": [
    "data.dtypes"
   ]
  },
  {
   "cell_type": "code",
   "execution_count": 104,
   "metadata": {},
   "outputs": [
    {
     "data": {
      "text/html": [
       "<div>\n",
       "<style scoped>\n",
       "    .dataframe tbody tr th:only-of-type {\n",
       "        vertical-align: middle;\n",
       "    }\n",
       "\n",
       "    .dataframe tbody tr th {\n",
       "        vertical-align: top;\n",
       "    }\n",
       "\n",
       "    .dataframe thead th {\n",
       "        text-align: right;\n",
       "    }\n",
       "</style>\n",
       "<table border=\"1\" class=\"dataframe\">\n",
       "  <thead>\n",
       "    <tr style=\"text-align: right;\">\n",
       "      <th></th>\n",
       "      <th>@timestamp</th>\n",
       "      <th>destination.ip</th>\n",
       "      <th>destination.port</th>\n",
       "      <th>destination.bytes</th>\n",
       "      <th>destination.packets</th>\n",
       "      <th>event.duration</th>\n",
       "      <th>network.bytes</th>\n",
       "      <th>network.packets</th>\n",
       "      <th>source.bytes</th>\n",
       "      <th>source.packets</th>\n",
       "      <th>source.port</th>\n",
       "      <th>source.ip</th>\n",
       "      <th>network.transport</th>\n",
       "      <th>network.type</th>\n",
       "    </tr>\n",
       "  </thead>\n",
       "  <tbody>\n",
       "    <tr>\n",
       "      <th>0</th>\n",
       "      <td>Jan 16, 2020 @ 15:31:00.251</td>\n",
       "      <td>172.31.91.217</td>\n",
       "      <td>22</td>\n",
       "      <td>123,300</td>\n",
       "      <td>141</td>\n",
       "      <td>1,140,356,367,865</td>\n",
       "      <td>133,212</td>\n",
       "      <td>285</td>\n",
       "      <td>9,912</td>\n",
       "      <td>144</td>\n",
       "      <td>34,179</td>\n",
       "      <td>193.146.78.93</td>\n",
       "      <td>tcp</td>\n",
       "      <td>ipv4</td>\n",
       "    </tr>\n",
       "    <tr>\n",
       "      <th>1</th>\n",
       "      <td>Jan 16, 2020 @ 15:31:00.251</td>\n",
       "      <td>34.238.162.185</td>\n",
       "      <td>9,200</td>\n",
       "      <td>547,054</td>\n",
       "      <td>578</td>\n",
       "      <td>1,140,098,665,211</td>\n",
       "      <td>2,934,616</td>\n",
       "      <td>1,672</td>\n",
       "      <td>2,387,562</td>\n",
       "      <td>1,094</td>\n",
       "      <td>38,310</td>\n",
       "      <td>172.21.0.2</td>\n",
       "      <td>tcp</td>\n",
       "      <td>ipv4</td>\n",
       "    </tr>\n",
       "    <tr>\n",
       "      <th>2</th>\n",
       "      <td>Jan 16, 2020 @ 15:31:00.251</td>\n",
       "      <td>34.238.162.185</td>\n",
       "      <td>9,200</td>\n",
       "      <td>273,527</td>\n",
       "      <td>289</td>\n",
       "      <td>1,140,098,633,856</td>\n",
       "      <td>1,467,308</td>\n",
       "      <td>836</td>\n",
       "      <td>1,193,781</td>\n",
       "      <td>547</td>\n",
       "      <td>38,310</td>\n",
       "      <td>172.31.91.217</td>\n",
       "      <td>tcp</td>\n",
       "      <td>ipv4</td>\n",
       "    </tr>\n",
       "    <tr>\n",
       "      <th>3</th>\n",
       "      <td>Jan 16, 2020 @ 15:31:00.251</td>\n",
       "      <td>34.238.162.185</td>\n",
       "      <td>9,200</td>\n",
       "      <td>19,073,884</td>\n",
       "      <td>5,734</td>\n",
       "      <td>1,140,094,145,161</td>\n",
       "      <td>108,722,289</td>\n",
       "      <td>17,228</td>\n",
       "      <td>89,648,405</td>\n",
       "      <td>11,494</td>\n",
       "      <td>40,992</td>\n",
       "      <td>172.31.91.217</td>\n",
       "      <td>tcp</td>\n",
       "      <td>ipv4</td>\n",
       "    </tr>\n",
       "    <tr>\n",
       "      <th>4</th>\n",
       "      <td>Jan 16, 2020 @ 15:31:00.251</td>\n",
       "      <td>192.168.17.11</td>\n",
       "      <td>35,220</td>\n",
       "      <td>9,414</td>\n",
       "      <td>96</td>\n",
       "      <td>1,140,095,773,053</td>\n",
       "      <td>22,228</td>\n",
       "      <td>242</td>\n",
       "      <td>12,814</td>\n",
       "      <td>146</td>\n",
       "      <td>5,671</td>\n",
       "      <td>192.168.17.17</td>\n",
       "      <td>tcp</td>\n",
       "      <td>ipv4</td>\n",
       "    </tr>\n",
       "  </tbody>\n",
       "</table>\n",
       "</div>"
      ],
      "text/plain": [
       "                    @timestamp  destination.ip destination.port  \\\n",
       "0  Jan 16, 2020 @ 15:31:00.251   172.31.91.217               22   \n",
       "1  Jan 16, 2020 @ 15:31:00.251  34.238.162.185            9,200   \n",
       "2  Jan 16, 2020 @ 15:31:00.251  34.238.162.185            9,200   \n",
       "3  Jan 16, 2020 @ 15:31:00.251  34.238.162.185            9,200   \n",
       "4  Jan 16, 2020 @ 15:31:00.251   192.168.17.11           35,220   \n",
       "\n",
       "  destination.bytes destination.packets     event.duration network.bytes  \\\n",
       "0           123,300                 141  1,140,356,367,865       133,212   \n",
       "1           547,054                 578  1,140,098,665,211     2,934,616   \n",
       "2           273,527                 289  1,140,098,633,856     1,467,308   \n",
       "3        19,073,884               5,734  1,140,094,145,161   108,722,289   \n",
       "4             9,414                  96  1,140,095,773,053        22,228   \n",
       "\n",
       "  network.packets source.bytes source.packets source.port      source.ip  \\\n",
       "0             285        9,912            144      34,179  193.146.78.93   \n",
       "1           1,672    2,387,562          1,094      38,310     172.21.0.2   \n",
       "2             836    1,193,781            547      38,310  172.31.91.217   \n",
       "3          17,228   89,648,405         11,494      40,992  172.31.91.217   \n",
       "4             242       12,814            146       5,671  192.168.17.17   \n",
       "\n",
       "  network.transport network.type  \n",
       "0               tcp         ipv4  \n",
       "1               tcp         ipv4  \n",
       "2               tcp         ipv4  \n",
       "3               tcp         ipv4  \n",
       "4               tcp         ipv4  "
      ]
     },
     "execution_count": 104,
     "metadata": {},
     "output_type": "execute_result"
    }
   ],
   "source": [
    "data.head()"
   ]
  },
  {
   "cell_type": "code",
   "execution_count": 105,
   "metadata": {},
   "outputs": [],
   "source": [
    "# Eliminamos las variables de poco interes\n",
    "data.drop(['@timestamp', 'destination.ip', 'source.ip', 'network.type', 'network.transport'], axis = 'columns', inplace=True)"
   ]
  },
  {
   "cell_type": "markdown",
   "metadata": {},
   "source": [
    "PREPROCESAMIENTO"
   ]
  },
  {
   "cell_type": "code",
   "execution_count": 106,
   "metadata": {},
   "outputs": [],
   "source": [
    "# Quitamos comas al dataframe para el clustering\n",
    "name2 = data.columns.values.tolist()\n",
    "len_col2=len(name2)\n",
    "\n",
    "for i in range(len_col2):\n",
    "    data[name2[i]].replace(',','',regex=True,inplace=True)\n",
    "#Eliminamos las variables que tienen mas de un 50% de valores nan\n",
    "len_col = data.shape[1]\n",
    "len_row = data.shape[0]\n",
    "name = data.columns.values.tolist()\n",
    "for i in range(len_col):\n",
    "    cc = data[name[i]].isnull().sum()\n",
    "    condition = (cc/len_row)\n",
    "    if (condition > 0.8):\n",
    "        data.drop([name[i]], axis = 'columns', inplace = True)\n",
    "    \n",
    "#Eliminamos las filas con nan\n",
    "data=data.dropna()"
   ]
  },
  {
   "cell_type": "code",
   "execution_count": 107,
   "metadata": {},
   "outputs": [
    {
     "data": {
      "text/plain": [
       "destination.port       False\n",
       "destination.bytes      False\n",
       "destination.packets    False\n",
       "event.duration         False\n",
       "network.bytes          False\n",
       "network.packets        False\n",
       "source.bytes           False\n",
       "source.packets         False\n",
       "source.port            False\n",
       "dtype: bool"
      ]
     },
     "execution_count": 107,
     "metadata": {},
     "output_type": "execute_result"
    }
   ],
   "source": [
    "pd.isnull(data).sum() > 0"
   ]
  },
  {
   "cell_type": "code",
   "execution_count": 108,
   "metadata": {},
   "outputs": [
    {
     "data": {
      "text/html": [
       "<div>\n",
       "<style scoped>\n",
       "    .dataframe tbody tr th:only-of-type {\n",
       "        vertical-align: middle;\n",
       "    }\n",
       "\n",
       "    .dataframe tbody tr th {\n",
       "        vertical-align: top;\n",
       "    }\n",
       "\n",
       "    .dataframe thead th {\n",
       "        text-align: right;\n",
       "    }\n",
       "</style>\n",
       "<table border=\"1\" class=\"dataframe\">\n",
       "  <thead>\n",
       "    <tr style=\"text-align: right;\">\n",
       "      <th></th>\n",
       "      <th>destination.port</th>\n",
       "      <th>destination.bytes</th>\n",
       "      <th>destination.packets</th>\n",
       "      <th>event.duration</th>\n",
       "      <th>network.bytes</th>\n",
       "      <th>network.packets</th>\n",
       "      <th>source.bytes</th>\n",
       "      <th>source.packets</th>\n",
       "      <th>source.port</th>\n",
       "    </tr>\n",
       "  </thead>\n",
       "  <tbody>\n",
       "    <tr>\n",
       "      <th>count</th>\n",
       "      <td>71545.000000</td>\n",
       "      <td>7.154500e+04</td>\n",
       "      <td>71545.000000</td>\n",
       "      <td>7.154500e+04</td>\n",
       "      <td>7.154500e+04</td>\n",
       "      <td>71545.000000</td>\n",
       "      <td>7.154500e+04</td>\n",
       "      <td>71545.000000</td>\n",
       "      <td>71545.000000</td>\n",
       "    </tr>\n",
       "    <tr>\n",
       "      <th>mean</th>\n",
       "      <td>12996.675882</td>\n",
       "      <td>4.085790e+04</td>\n",
       "      <td>158.120749</td>\n",
       "      <td>8.122989e+10</td>\n",
       "      <td>1.359226e+05</td>\n",
       "      <td>317.555259</td>\n",
       "      <td>9.506468e+04</td>\n",
       "      <td>159.434510</td>\n",
       "      <td>41188.079614</td>\n",
       "    </tr>\n",
       "    <tr>\n",
       "      <th>std</th>\n",
       "      <td>12843.578856</td>\n",
       "      <td>4.682884e+05</td>\n",
       "      <td>756.639250</td>\n",
       "      <td>1.673936e+11</td>\n",
       "      <td>2.599005e+06</td>\n",
       "      <td>1605.990188</td>\n",
       "      <td>2.139235e+06</td>\n",
       "      <td>866.423177</td>\n",
       "      <td>15975.173012</td>\n",
       "    </tr>\n",
       "    <tr>\n",
       "      <th>min</th>\n",
       "      <td>22.000000</td>\n",
       "      <td>7.600000e+01</td>\n",
       "      <td>1.000000</td>\n",
       "      <td>2.858500e+04</td>\n",
       "      <td>1.560000e+02</td>\n",
       "      <td>2.000000</td>\n",
       "      <td>8.000000e+01</td>\n",
       "      <td>1.000000</td>\n",
       "      <td>68.000000</td>\n",
       "    </tr>\n",
       "    <tr>\n",
       "      <th>25%</th>\n",
       "      <td>5671.000000</td>\n",
       "      <td>1.224000e+03</td>\n",
       "      <td>10.000000</td>\n",
       "      <td>2.335343e+06</td>\n",
       "      <td>2.458000e+03</td>\n",
       "      <td>22.000000</td>\n",
       "      <td>1.296000e+03</td>\n",
       "      <td>12.000000</td>\n",
       "      <td>35880.000000</td>\n",
       "    </tr>\n",
       "    <tr>\n",
       "      <th>50%</th>\n",
       "      <td>5671.000000</td>\n",
       "      <td>1.109400e+04</td>\n",
       "      <td>30.000000</td>\n",
       "      <td>2.257957e+07</td>\n",
       "      <td>2.343400e+04</td>\n",
       "      <td>66.000000</td>\n",
       "      <td>1.233600e+04</td>\n",
       "      <td>36.000000</td>\n",
       "      <td>43546.000000</td>\n",
       "    </tr>\n",
       "    <tr>\n",
       "      <th>75%</th>\n",
       "      <td>13005.000000</td>\n",
       "      <td>1.123000e+04</td>\n",
       "      <td>32.000000</td>\n",
       "      <td>3.487633e+10</td>\n",
       "      <td>2.369000e+04</td>\n",
       "      <td>68.000000</td>\n",
       "      <td>1.249800e+04</td>\n",
       "      <td>36.000000</td>\n",
       "      <td>53802.000000</td>\n",
       "    </tr>\n",
       "    <tr>\n",
       "      <th>max</th>\n",
       "      <td>60848.000000</td>\n",
       "      <td>1.907388e+07</td>\n",
       "      <td>27540.000000</td>\n",
       "      <td>1.149311e+12</td>\n",
       "      <td>1.087223e+08</td>\n",
       "      <td>55080.000000</td>\n",
       "      <td>8.964840e+07</td>\n",
       "      <td>27540.000000</td>\n",
       "      <td>65509.000000</td>\n",
       "    </tr>\n",
       "  </tbody>\n",
       "</table>\n",
       "</div>"
      ],
      "text/plain": [
       "       destination.port  destination.bytes  destination.packets  \\\n",
       "count      71545.000000       7.154500e+04         71545.000000   \n",
       "mean       12996.675882       4.085790e+04           158.120749   \n",
       "std        12843.578856       4.682884e+05           756.639250   \n",
       "min           22.000000       7.600000e+01             1.000000   \n",
       "25%         5671.000000       1.224000e+03            10.000000   \n",
       "50%         5671.000000       1.109400e+04            30.000000   \n",
       "75%        13005.000000       1.123000e+04            32.000000   \n",
       "max        60848.000000       1.907388e+07         27540.000000   \n",
       "\n",
       "       event.duration  network.bytes  network.packets  source.bytes  \\\n",
       "count    7.154500e+04   7.154500e+04     71545.000000  7.154500e+04   \n",
       "mean     8.122989e+10   1.359226e+05       317.555259  9.506468e+04   \n",
       "std      1.673936e+11   2.599005e+06      1605.990188  2.139235e+06   \n",
       "min      2.858500e+04   1.560000e+02         2.000000  8.000000e+01   \n",
       "25%      2.335343e+06   2.458000e+03        22.000000  1.296000e+03   \n",
       "50%      2.257957e+07   2.343400e+04        66.000000  1.233600e+04   \n",
       "75%      3.487633e+10   2.369000e+04        68.000000  1.249800e+04   \n",
       "max      1.149311e+12   1.087223e+08     55080.000000  8.964840e+07   \n",
       "\n",
       "       source.packets   source.port  \n",
       "count    71545.000000  71545.000000  \n",
       "mean       159.434510  41188.079614  \n",
       "std        866.423177  15975.173012  \n",
       "min          1.000000     68.000000  \n",
       "25%         12.000000  35880.000000  \n",
       "50%         36.000000  43546.000000  \n",
       "75%         36.000000  53802.000000  \n",
       "max      27540.000000  65509.000000  "
      ]
     },
     "execution_count": 108,
     "metadata": {},
     "output_type": "execute_result"
    }
   ],
   "source": [
    "data = data.astype(\"int64\")\n",
    "data.describe()"
   ]
  },
  {
   "cell_type": "code",
   "execution_count": 110,
   "metadata": {},
   "outputs": [
    {
     "data": {
      "image/png": "[encoded data removed]",
      "text/plain": [
       "<Figure size 720x648 with 9 Axes>"
      ]
     },
     "metadata": {},
     "output_type": "display_data"
    }
   ],
   "source": [
    "import matplotlib.pyplot as plt\n",
    "\n",
    "fig = data.hist(bins=10,\n",
    "                 color='steelblue',\n",
    "                 edgecolor='black', linewidth=1.0,\n",
    "                 xlabelsize=10, ylabelsize=10,\n",
    "                 xrot=45, yrot=0,\n",
    "                 figsize=(10,9),\n",
    "                 grid=False)\n",
    "\n",
    "plt.tight_layout(rect=(0, 0, 1.5, 1.5))"
   ]
  },
  {
   "cell_type": "code",
   "execution_count": null,
   "metadata": {},
   "outputs": [],
   "source": []
  },
  {
   "cell_type": "code",
   "execution_count": null,
   "metadata": {},
   "outputs": [],
   "source": []
  },
  {
   "cell_type": "code",
   "execution_count": null,
   "metadata": {},
   "outputs": [],
   "source": []
  },
  {
   "cell_type": "code",
   "execution_count": null,
   "metadata": {},
   "outputs": [],
   "source": []
  },
  {
   "cell_type": "code",
   "execution_count": null,
   "metadata": {},
   "outputs": [],
   "source": []
  },
  {
   "cell_type": "code",
   "execution_count": null,
   "metadata": {},
   "outputs": [],
   "source": []
  }
 ],
 "metadata": {
  "kernelspec": {
   "display_name": "Python 3",
   "language": "python",
   "name": "python3"
  },
  "language_info": {
   "codemirror_mode": {
    "name": "ipython",
    "version": 3
   },
   "file_extension": ".py",
   "mimetype": "text/x-python",
   "name": "python",
   "nbconvert_exporter": "python",
   "pygments_lexer": "ipython3",
   "version": "3.7.6"
  }
 },
 "nbformat": 4,
 "nbformat_minor": 2
}
